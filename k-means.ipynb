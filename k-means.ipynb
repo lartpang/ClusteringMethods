{
 "cells": [
  {
   "cell_type": "markdown",
   "metadata": {},
   "source": [
    "# K-means and K-means++\n",
    "\n",
    "参考资料：\n",
    "- [原创 | 一文读懂K均值（K-Means）聚类算法](https://mp.weixin.qq.com/s/XS1_NAZ65P-1aLqwWm2hbg)\n",
    "- [K-Means(K均值聚类算法) - 范永康的文章 - 知乎](https://zhuanlan.zhihu.com/p/136842949)"
   ]
  },
  {
   "cell_type": "markdown",
   "metadata": {},
   "source": [
    "## K-means"
   ]
  },
  {
   "cell_type": "markdown",
   "metadata": {},
   "source": [
    "首先导入一些必要的库。这里仅使用python内置的库来实现两种不同的算法。"
   ]
  },
  {
   "cell_type": "code",
   "execution_count": 56,
   "metadata": {},
   "outputs": [],
   "source": [
    "import math\n",
    "import pprint\n",
    "import random"
   ]
  },
  {
   "cell_type": "markdown",
   "metadata": {},
   "source": [
    "接下来构建一些关键的辅助函数。由于K-means是一种基于样本与聚类中心的相似度的方法，所以度量两个元素之间的相似关系的函数是很重要的。这里不应该对样本的特征数进行约束。我们选择欧式距离作为距离度量。"
   ]
  },
  {
   "cell_type": "code",
   "execution_count": 57,
   "metadata": {},
   "outputs": [],
   "source": [
    "def cal_distance(pt1, pt2):\n",
    "    return math.sqrt(sum([(x-y)**2 for x, y in zip(pt1, pt2)]))"
   ]
  },
  {
   "cell_type": "markdown",
   "metadata": {},
   "source": [
    "除了计算距离之外，另一个会被反复使用的功能就是计算质心了。我们选择所有样本的特征向量的均值作为质心的表示。"
   ]
  },
  {
   "cell_type": "code",
   "execution_count": 58,
   "metadata": {},
   "outputs": [],
   "source": [
    "def cal_centroid(pts):\n",
    "    num_pts = len(pts)\n",
    "    num_features = len(pts[0])\n",
    "    centroid = [0] * num_features\n",
    "    for pt in pts:\n",
    "        for i in range(num_features):\n",
    "            centroid[i] += pt[i] / num_pts\n",
    "    return centroid"
   ]
  },
  {
   "cell_type": "markdown",
   "metadata": {},
   "source": [
    "设定聚类中心的数量。"
   ]
  },
  {
   "cell_type": "code",
   "execution_count": 59,
   "metadata": {},
   "outputs": [],
   "source": [
    "K = 3"
   ]
  },
  {
   "cell_type": "markdown",
   "metadata": {},
   "source": [
    "接下来就要开始编写K-means的核心代码了。我们需要了解一下K-means的核心步骤：\n",
    "1. 初始化聚类中心\n",
    "2. 遍历各个样本，将各自分配到最近的聚类中心\n",
    "3. 对各个聚类中心对应的样本集合计算质心作为新的聚类中心\n",
    "4. 如果3中聚类中心有变化，则进入2，否则结束更新，输出聚类结果。"
   ]
  },
  {
   "cell_type": "code",
   "execution_count": 60,
   "metadata": {},
   "outputs": [],
   "source": [
    "def initialize_centroids(pts: dict, k: int) -> list:\n",
    "    centroids = random.sample([v['value'] for v in pts.values()], k=k)\n",
    "    return centroids"
   ]
  },
  {
   "cell_type": "code",
   "execution_count": 61,
   "metadata": {},
   "outputs": [],
   "source": [
    "def classify_samples(pts: dict, centroids: list):\n",
    "    # 根据执行计算各点与当前质心的距离，并按照最短距离判定各点属于哪个质心\n",
    "    for pt_name, pt_info in pts.items():\n",
    "        pt_value = pt_info[\"value\"]\n",
    "        if pt_value in centroids:\n",
    "            pt_info[\"centroid\"] = pt_value\n",
    "            continue\n",
    "\n",
    "        min_dist_pt_to_centroids = None\n",
    "        pt_centroid_value = None\n",
    "        for centroid_value in centroids:\n",
    "            dist = cal_distance(pt_value, centroid_value)\n",
    "            if pt_centroid_value is None or dist < min_dist_pt_to_centroids:\n",
    "                min_dist_pt_to_centroids = dist\n",
    "                pt_centroid_value = centroid_value\n",
    "        pt_info[\"centroid\"] = pt_centroid_value"
   ]
  },
  {
   "cell_type": "code",
   "execution_count": 62,
   "metadata": {},
   "outputs": [],
   "source": [
    "def update_centroids(pts: dict, centroids: list) -> list:\n",
    "    new_centroids = []\n",
    "    for centroid_value in centroids:\n",
    "        pt_group = []\n",
    "        for pt_name, pt_info in pts.items():\n",
    "            if pt_info[\"centroid\"] == centroid_value:\n",
    "                pt_group.append(pt_info[\"value\"])            \n",
    "        new_centroid = cal_centroid(pt_group)\n",
    "        new_centroids.append(new_centroid)\n",
    "        for pt_name, pt_info in pts.items():\n",
    "            if pt_info[\"centroid\"] == centroid_value:\n",
    "                pt_info[\"centroid\"] = new_centroid\n",
    "    return new_centroids"
   ]
  },
  {
   "cell_type": "markdown",
   "metadata": {},
   "source": [
    "基于这些核心的函数，我们可以得到最终的k-means函数。"
   ]
  },
  {
   "cell_type": "code",
   "execution_count": 63,
   "metadata": {},
   "outputs": [],
   "source": [
    "def k_means(pts: dict, k: int):\n",
    "    centroids = initialize_centroids(pts=pts, k=k)\n",
    "    print(\"Initial Centroids: \", centroids)\n",
    "\n",
    "    iterations = 0\n",
    "    while True:\n",
    "        print(\"Start Iteration \", iterations)\n",
    "        classify_samples(pts=pts, centroids=centroids)\n",
    "        new_centroids = update_centroids(pts=pts, centroids=centroids)\n",
    "        total_diff = sum([cal_distance(x, y) for x, y in zip(centroids, new_centroids)])\n",
    "        if total_diff == 0:\n",
    "            break\n",
    "        centroids = new_centroids\n",
    "        print(\"After Iteration \", iterations)\n",
    "        pprint.pprint(pts)\n",
    "        \n",
    "        iterations += 1\n",
    "    print(\"End Iteration\")"
   ]
  },
  {
   "cell_type": "code",
   "execution_count": 64,
   "metadata": {},
   "outputs": [
    {
     "name": "stdout",
     "output_type": "stream",
     "text": [
      "{'a': {'centroid': None, 'value': (-5.379713, -3.362104)},\n",
      " 'b': {'centroid': None, 'value': (-3.487105, -1.724432)},\n",
      " 'c': {'centroid': None, 'value': (0.450614, -3.302219)},\n",
      " 'd': {'centroid': None, 'value': (-0.39237, -3.963704)},\n",
      " 'e': {'centroid': None, 'value': (-3.453687, 3.424321)}}\n"
     ]
    }
   ],
   "source": [
    "pts = dict(\n",
    "    a=dict(centroid=None, value=(-5.379713, -3.362104)),\n",
    "    b=dict(centroid=None, value=(-3.487105, -1.724432)),\n",
    "    c=dict(centroid=None, value=(0.450614, -3.302219)),\n",
    "    d=dict(centroid=None, value=(-0.392370, -3.963704)),\n",
    "    e=dict(centroid=None, value=(-3.453687, 3.424321)),\n",
    ")\n",
    "pprint.pprint(pts)"
   ]
  },
  {
   "cell_type": "code",
   "execution_count": 65,
   "metadata": {},
   "outputs": [
    {
     "name": "stdout",
     "output_type": "stream",
     "text": [
      "Initial Centroids:  [(0.450614, -3.302219), (-0.39237, -3.963704), (-3.487105, -1.724432)]\n",
      "Start Iteration  0\n",
      "After Iteration  0\n",
      "{'a': {'centroid': [-4.106835, -0.5540716666666665],\n",
      "       'value': (-5.379713, -3.362104)},\n",
      " 'b': {'centroid': [-4.106835, -0.5540716666666665],\n",
      "       'value': (-3.487105, -1.724432)},\n",
      " 'c': {'centroid': [0.450614, -3.302219], 'value': (0.450614, -3.302219)},\n",
      " 'd': {'centroid': [-0.39237, -3.963704], 'value': (-0.39237, -3.963704)},\n",
      " 'e': {'centroid': [-4.106835, -0.5540716666666665],\n",
      "       'value': (-3.453687, 3.424321)}}\n",
      "Start Iteration  1\n",
      "End Iteration\n",
      "{'a': {'centroid': [-4.106835, -0.5540716666666665],\n",
      "       'value': (-5.379713, -3.362104)},\n",
      " 'b': {'centroid': [-4.106835, -0.5540716666666665],\n",
      "       'value': (-3.487105, -1.724432)},\n",
      " 'c': {'centroid': [0.450614, -3.302219], 'value': (0.450614, -3.302219)},\n",
      " 'd': {'centroid': [-0.39237, -3.963704], 'value': (-0.39237, -3.963704)},\n",
      " 'e': {'centroid': [-4.106835, -0.5540716666666665],\n",
      "       'value': (-3.453687, 3.424321)}}\n"
     ]
    }
   ],
   "source": [
    "# random.seed(0)\n",
    "k_means(pts=pts, k=K)\n",
    "pprint.pprint(pts)"
   ]
  },
  {
   "cell_type": "markdown",
   "metadata": {},
   "source": [
    "## K-means++"
   ]
  },
  {
   "cell_type": "markdown",
   "metadata": {},
   "source": [
    "K-means的聚类效果和初始聚类中心的选择有着很大的关系。K-means++则是对这一关键步骤的优化。即初始质心的选择应该尽可能的分散。"
   ]
  },
  {
   "cell_type": "code",
   "execution_count": 66,
   "metadata": {},
   "outputs": [],
   "source": [
    "def min_dist_with_centroids(pt: tuple, centroids: list) -> float:\n",
    "    # 计算样本与最近的质心的距离\n",
    "    all_dists = [cal_distance(pt, c) for c in centroids]\n",
    "    return min(all_dists)"
   ]
  },
  {
   "cell_type": "markdown",
   "metadata": {},
   "source": [
    "这里根据各点对应的最小距离确定点采样的概率。\n",
    "如何根据权重来确定概率，实现这点的算法有很多，其中比较简单的是轮盘法。\n",
    "轮盘赌法：即将所有样本各自对应的权重值等价为轮盘区块的面积，并使用一个0~1均匀采样获得最终的概率采样。\n",
    "这一过程就类似于轮盘指针的旋转。这里的实现实际上是按照累计概率的方式进行的。"
   ]
  },
  {
   "cell_type": "code",
   "execution_count": 67,
   "metadata": {},
   "outputs": [],
   "source": [
    "def initialize_centroids_plusplus(pts, k):\n",
    "    pt_names = list(pts.keys())\n",
    "    centroids = [random.choice([pt[\"value\"] for pt in pts.values()])]\n",
    "    # centroids = [pts[\"d\"][\"value\"]]\n",
    "\n",
    "    for i in range(K - 1):\n",
    "        total_dists = []\n",
    "        for pt_name in pt_names:\n",
    "            pt_info = pts[pt_name]  # 这里无需考虑样本是否为质心的情况，因为此时的最小距离为0，在轮盘赌的时候其并不会起到影响\n",
    "            min_dist = min_dist_with_centroids(pt=pt_info[\"value\"], centroids=centroids)\n",
    "            total_dists.append(min_dist)\n",
    "\n",
    "        # 轮盘赌算法\n",
    "        sample_dist = sum(total_dists) * random.random()\n",
    "        for i, dist in enumerate(total_dists):\n",
    "            sample_dist -= dist\n",
    "            if sample_dist <= 0:\n",
    "                centroid_name = pt_names[i]\n",
    "                centroid_value = pts[centroid_name][\"value\"]\n",
    "                break\n",
    "        centroids.append(centroid_value)\n",
    "    return centroids"
   ]
  },
  {
   "cell_type": "code",
   "execution_count": 68,
   "metadata": {},
   "outputs": [],
   "source": [
    "def k_means_pp(pts: dict, initial_centroids: list):\n",
    "    centroids = initial_centroids\n",
    "    print(\"Initial Centroids: \", centroids)\n",
    "\n",
    "    iterations = 0\n",
    "    while True:\n",
    "        print(\"Start Iteration \", iterations)\n",
    "        classify_samples(pts=pts, centroids=centroids)\n",
    "        new_centroids = update_centroids(pts=pts, centroids=centroids)\n",
    "        total_diff = sum([cal_distance(x, y) for x, y in zip(centroids, new_centroids)])\n",
    "        if total_diff == 0:\n",
    "            break\n",
    "        centroids = new_centroids\n",
    "        print(\"After Iteration \", iterations)\n",
    "        pprint.pprint(pts)\n",
    "\n",
    "        iterations += 1\n",
    "    print(\"End All Iterations\")"
   ]
  },
  {
   "cell_type": "code",
   "execution_count": 69,
   "metadata": {},
   "outputs": [
    {
     "name": "stdout",
     "output_type": "stream",
     "text": [
      "{'a': {'centroid': None, 'value': (-5.379713, -3.362104)},\n",
      " 'b': {'centroid': None, 'value': (-3.487105, -1.724432)},\n",
      " 'c': {'centroid': None, 'value': (0.450614, -3.302219)},\n",
      " 'd': {'centroid': None, 'value': (-0.39237, -3.963704)},\n",
      " 'e': {'centroid': None, 'value': (-3.453687, 3.424321)}}\n"
     ]
    }
   ],
   "source": [
    "pts = dict(\n",
    "    a=dict(centroid=None, value=(-5.379713, -3.362104)),\n",
    "    b=dict(centroid=None, value=(-3.487105, -1.724432)),\n",
    "    c=dict(centroid=None, value=(0.450614, -3.302219)),\n",
    "    d=dict(centroid=None, value=(-0.392370, -3.963704)),\n",
    "    e=dict(centroid=None, value=(-3.453687, 3.424321)),\n",
    ")\n",
    "pprint.pprint(pts)"
   ]
  },
  {
   "cell_type": "code",
   "execution_count": 70,
   "metadata": {},
   "outputs": [
    {
     "name": "stdout",
     "output_type": "stream",
     "text": [
      "Initial Centroids:  [(-0.39237, -3.963704), (-3.453687, 3.424321), (-5.379713, -3.362104)]\n",
      "Start Iteration  0\n",
      "After Iteration  0\n",
      "{'a': {'centroid': [-4.433409, -2.543268], 'value': (-5.379713, -3.362104)},\n",
      " 'b': {'centroid': [-4.433409, -2.543268], 'value': (-3.487105, -1.724432)},\n",
      " 'c': {'centroid': [0.02912200000000001, -3.6329615],\n",
      "       'value': (0.450614, -3.302219)},\n",
      " 'd': {'centroid': [0.02912200000000001, -3.6329615],\n",
      "       'value': (-0.39237, -3.963704)},\n",
      " 'e': {'centroid': [-3.453687, 3.424321], 'value': (-3.453687, 3.424321)}}\n",
      "Start Iteration  1\n",
      "End All Iterations\n",
      "{'a': {'centroid': [-4.433409, -2.543268], 'value': (-5.379713, -3.362104)},\n",
      " 'b': {'centroid': [-4.433409, -2.543268], 'value': (-3.487105, -1.724432)},\n",
      " 'c': {'centroid': [0.02912200000000001, -3.6329615],\n",
      "       'value': (0.450614, -3.302219)},\n",
      " 'd': {'centroid': [0.02912200000000001, -3.6329615],\n",
      "       'value': (-0.39237, -3.963704)},\n",
      " 'e': {'centroid': [-3.453687, 3.424321], 'value': (-3.453687, 3.424321)}}\n"
     ]
    }
   ],
   "source": [
    "random.seed(0)\n",
    "initial_centroids = initialize_centroids_plusplus(pts=pts, k=K)\n",
    "k_means_pp(pts=pts, initial_centroids=initial_centroids)\n",
    "pprint.pprint(pts)"
   ]
  }
 ],
 "metadata": {
  "kernelspec": {
   "display_name": "Python 3.8.11 ('ptcoding')",
   "language": "python",
   "name": "python3"
  },
  "language_info": {
   "codemirror_mode": {
    "name": "ipython",
    "version": 3
   },
   "file_extension": ".py",
   "mimetype": "text/x-python",
   "name": "python",
   "nbconvert_exporter": "python",
   "pygments_lexer": "ipython3",
   "version": "3.8.11"
  },
  "orig_nbformat": 4,
  "vscode": {
   "interpreter": {
    "hash": "0b2422d80ea97e92c69ee68ee655103ef8a5b3366741c34805d4daa125d3e3bf"
   }
  }
 },
 "nbformat": 4,
 "nbformat_minor": 2
}
